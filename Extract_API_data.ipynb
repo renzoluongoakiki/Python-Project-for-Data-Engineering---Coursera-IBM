{
 "cells": [
  {
   "cell_type": "markdown",
   "metadata": {},
   "source": [
    "<center>\n",
    "    <img src=\"https://gitlab.com/ibm/skills-network/courses/placeholder101/-/raw/master/labs/module%201/images/IDSNlogo.png\" width=\"300\" alt=\"cognitiveclass.ai logo\"  />\n",
    "</center>\n"
   ]
  },
  {
   "cell_type": "markdown",
   "metadata": {},
   "source": [
    "# Peer Review Assignment - Data Engineer - Extract API Data\n"
   ]
  },
  {
   "cell_type": "markdown",
   "metadata": {},
   "source": [
    "Estimated time needed: **20** minutes\n"
   ]
  },
  {
   "cell_type": "markdown",
   "metadata": {},
   "source": [
    "## Objectives\n",
    "\n",
    "In this part you will:\n",
    "\n",
    "*   Collect exchange rate data using an API\n",
    "*   Store the data as a CSV\n"
   ]
  },
  {
   "cell_type": "markdown",
   "metadata": {},
   "source": [
    "For this lab, we are going to be using Python and several Python libraries. Some of these libraries might be installed in your lab environment or in SN Labs. Others may need to be installed by you. The cells below will install these libraries when executed.\n"
   ]
  },
  {
   "cell_type": "code",
   "execution_count": 1,
   "metadata": {},
   "outputs": [],
   "source": [
    "#!pip install pandas\n",
    "#!pip install requests"
   ]
  },
  {
   "cell_type": "markdown",
   "metadata": {},
   "source": [
    "## Imports\n",
    "\n",
    "Import any additional libraries you may need here.\n"
   ]
  },
  {
   "cell_type": "code",
   "execution_count": 2,
   "metadata": {},
   "outputs": [],
   "source": [
    "import requests\n",
    "import pandas as pd"
   ]
  },
  {
   "cell_type": "markdown",
   "metadata": {},
   "source": [
    "## Extract Data Using an API\n"
   ]
  },
  {
   "cell_type": "markdown",
   "metadata": {},
   "source": [
    "Using ExchangeRate-API we will extract currency exchange rate data. Use the below steps to get the access key and to get the data.\n",
    "\n",
    "1.  Open the url : [https://exchangeratesapi.io/](https://exchangeratesapi.io/?utm_medium=Exinfluencer&utm_source=Exinfluencer&utm_content=000026UJ&utm_term=10006555&utm_id=NA-SkillsNetwork-Channel-SkillsNetworkCoursesIBMDeveloperSkillsNetworkPY0221ENSkillsNetwork23455645-2021-01-01) and create a free account.\n",
    "2.  Once the account is created. You will get the Get the Free API key option on the top as shown below:\n",
    "\n",
    "<img src=\"https://cf-courses-data.s3.us.cloud-object-storage.appdomain.cloud/IBMDeveloperSkillsNetwork-PY0221EN-SkillsNetwork/labs/module%206/Final%20Assignment/Images/getapi.png\"/>\n",
    "\n",
    "3.  Copy the API key and use in the url in Question 1.\n"
   ]
  },
  {
   "cell_type": "markdown",
   "metadata": {},
   "source": [
    "### Call the API\n",
    "\n",
    "<b> Question 1</b> Using the `requests` library call the endpoint given above and save the text, remember the first few characters of the output:\n"
   ]
  },
  {
   "cell_type": "code",
   "execution_count": 3,
   "metadata": {},
   "outputs": [
    {
     "data": {
      "text/plain": [
       "{'success': True,\n",
       " 'timestamp': 1642710844,\n",
       " 'base': 'EUR',\n",
       " 'date': '2022-01-20',\n",
       " 'rates': {'AED': 4.154948,\n",
       "  'AFN': 118.777913,\n",
       "  'ALL': 121.323147,\n",
       "  'AMD': 544.861268,\n",
       "  'ANG': 2.039132,\n",
       "  'AOA': 602.859716,\n",
       "  'ARS': 117.986586,\n",
       "  'AUD': 1.564341,\n",
       "  'AWG': 2.036753,\n",
       "  'AZN': 1.914647,\n",
       "  'BAM': 1.951397,\n",
       "  'BBD': 2.28447,\n",
       "  'BDT': 97.276396,\n",
       "  'BGN': 1.952889,\n",
       "  'BHD': 0.426379,\n",
       "  'BIF': 2273.742796,\n",
       "  'BMD': 1.131215,\n",
       "  'BND': 1.523233,\n",
       "  'BOB': 7.79007,\n",
       "  'BRL': 6.149849,\n",
       "  'BSD': 1.131425,\n",
       "  'BTC': 2.6492587e-05,\n",
       "  'BTN': 84.298634,\n",
       "  'BWP': 13.012511,\n",
       "  'BYN': 2.904415,\n",
       "  'BYR': 22171.820295,\n",
       "  'BZD': 2.280709,\n",
       "  'CAD': 1.412747,\n",
       "  'CDF': 2279.399084,\n",
       "  'CHF': 1.037687,\n",
       "  'CLF': 0.03291,\n",
       "  'CLP': 908.094288,\n",
       "  'CNY': 7.173047,\n",
       "  'COP': 4497.146509,\n",
       "  'CRC': 717.506933,\n",
       "  'CUC': 1.131215,\n",
       "  'CUP': 29.977206,\n",
       "  'CVE': 110.417947,\n",
       "  'CZK': 24.243534,\n",
       "  'DJF': 201.039282,\n",
       "  'DKK': 7.443521,\n",
       "  'DOP': 65.440616,\n",
       "  'DZD': 158.569248,\n",
       "  'EGP': 17.813356,\n",
       "  'ERN': 16.968252,\n",
       "  'ETB': 56.108685,\n",
       "  'EUR': 1,\n",
       "  'FJD': 2.404858,\n",
       "  'FKP': 0.823434,\n",
       "  'GBP': 0.831547,\n",
       "  'GEL': 3.484136,\n",
       "  'GGP': 0.823434,\n",
       "  'GHS': 7.09251,\n",
       "  'GIP': 0.823434,\n",
       "  'GMD': 59.558288,\n",
       "  'GNF': 10214.874471,\n",
       "  'GTQ': 8.717743,\n",
       "  'GYD': 236.608335,\n",
       "  'HKD': 8.808604,\n",
       "  'HNL': 27.726293,\n",
       "  'HRK': 7.523259,\n",
       "  'HTG': 115.713099,\n",
       "  'HUF': 356.333055,\n",
       "  'IDR': 16204.037307,\n",
       "  'ILS': 3.535829,\n",
       "  'IMP': 0.823434,\n",
       "  'INR': 84.158007,\n",
       "  'IQD': 1652.139977,\n",
       "  'IRR': 47793.84728,\n",
       "  'ISK': 145.372129,\n",
       "  'JEP': 0.823434,\n",
       "  'JMD': 175.660862,\n",
       "  'JOD': 0.802026,\n",
       "  'JPY': 129.152552,\n",
       "  'KES': 128.449409,\n",
       "  'KGS': 95.906588,\n",
       "  'KHR': 4604.046709,\n",
       "  'KMF': 490.890586,\n",
       "  'KPW': 1018.093967,\n",
       "  'KRW': 1348.838302,\n",
       "  'KWD': 0.341966,\n",
       "  'KYD': 0.942941,\n",
       "  'KZT': 493.261683,\n",
       "  'LAK': 12768.026805,\n",
       "  'LBP': 1711.528611,\n",
       "  'LKR': 229.118619,\n",
       "  'LRD': 170.814145,\n",
       "  'LSL': 17.211406,\n",
       "  'LTL': 3.340184,\n",
       "  'LVL': 0.684261,\n",
       "  'LYD': 5.175313,\n",
       "  'MAD': 10.500507,\n",
       "  'MDL': 20.445446,\n",
       "  'MGA': 4522.025848,\n",
       "  'MKD': 61.475623,\n",
       "  'MMK': 2011.717972,\n",
       "  'MNT': 3233.953613,\n",
       "  'MOP': 9.073748,\n",
       "  'MRO': 403.843675,\n",
       "  'MUR': 49.829672,\n",
       "  'MVR': 17.476753,\n",
       "  'MWK': 923.63154,\n",
       "  'MXN': 23.205294,\n",
       "  'MYR': 4.738095,\n",
       "  'MZN': 72.20522,\n",
       "  'NAD': 17.211411,\n",
       "  'NGN': 469.397734,\n",
       "  'NIO': 40.101513,\n",
       "  'NOK': 9.97924,\n",
       "  'NPR': 134.878014,\n",
       "  'NZD': 1.672983,\n",
       "  'OMR': 0.435489,\n",
       "  'PAB': 1.131525,\n",
       "  'PEN': 4.355748,\n",
       "  'PGK': 3.970737,\n",
       "  'PHP': 58.119586,\n",
       "  'PKR': 199.637204,\n",
       "  'PLN': 4.520976,\n",
       "  'PYG': 7873.076253,\n",
       "  'QAR': 4.118755,\n",
       "  'RON': 4.94409,\n",
       "  'RSD': 117.600923,\n",
       "  'RUB': 86.685144,\n",
       "  'RWF': 1149.314766,\n",
       "  'SAR': 4.243214,\n",
       "  'SBD': 9.111754,\n",
       "  'SCR': 16.704151,\n",
       "  'SDG': 494.902786,\n",
       "  'SEK': 10.413069,\n",
       "  'SGD': 1.522927,\n",
       "  'SHP': 1.55814,\n",
       "  'SLL': 12811.013181,\n",
       "  'SOS': 661.760643,\n",
       "  'SRD': 24.050206,\n",
       "  'STD': 23413.873234,\n",
       "  'SVC': 9.900466,\n",
       "  'SYP': 2841.612633,\n",
       "  'SZL': 17.211426,\n",
       "  'THB': 37.148835,\n",
       "  'TJS': 12.779826,\n",
       "  'TMT': 3.970566,\n",
       "  'TND': 3.275436,\n",
       "  'TOP': 2.56554,\n",
       "  'TRY': 15.099009,\n",
       "  'TTD': 7.671238,\n",
       "  'TWD': 31.26622,\n",
       "  'TZS': 2613.107212,\n",
       "  'UAH': 32.04425,\n",
       "  'UGX': 3982.700052,\n",
       "  'USD': 1.131215,\n",
       "  'UYU': 50.450504,\n",
       "  'UZS': 12256.717658,\n",
       "  'VEF': 241888023640.22015,\n",
       "  'VND': 25622.027025,\n",
       "  'VUV': 128.586845,\n",
       "  'WST': 2.955122,\n",
       "  'XAF': 654.467413,\n",
       "  'XAG': 0.046183,\n",
       "  'XAU': 0.000615,\n",
       "  'XCD': 3.057166,\n",
       "  'XDR': 0.806864,\n",
       "  'XOF': 653.279279,\n",
       "  'XPF': 119.484601,\n",
       "  'YER': 283.086865,\n",
       "  'ZAR': 17.192188,\n",
       "  'ZMK': 10182.298666,\n",
       "  'ZMW': 19.71544,\n",
       "  'ZWL': 364.250872}}"
      ]
     },
     "execution_count": 3,
     "metadata": {},
     "output_type": "execute_result"
    }
   ],
   "source": [
    "# Write your code here\n",
    "url = \"http://api.exchangeratesapi.io/v1/latest?base=EUR&access_key=3ae8a41ae8b314fe2c76abee00969ef2\"  #Make sure to change ******* to your API key.\n",
    "response = requests.get(url)\n",
    "response.json()"
   ]
  },
  {
   "cell_type": "markdown",
   "metadata": {},
   "source": [
    "### Save as DataFrame\n",
    "\n",
    "<b> Question 2</b>  Using the data gathered turn it into a `pandas` dataframe. The dataframe should have the Currency as the index and `Rate` as their columns. Make sure to drop unnecessary columns.\n"
   ]
  },
  {
   "cell_type": "code",
   "execution_count": 4,
   "metadata": {},
   "outputs": [
    {
     "data": {
      "text/html": [
       "<div>\n",
       "<style scoped>\n",
       "    .dataframe tbody tr th:only-of-type {\n",
       "        vertical-align: middle;\n",
       "    }\n",
       "\n",
       "    .dataframe tbody tr th {\n",
       "        vertical-align: top;\n",
       "    }\n",
       "\n",
       "    .dataframe thead th {\n",
       "        text-align: right;\n",
       "    }\n",
       "</style>\n",
       "<table border=\"1\" class=\"dataframe\">\n",
       "  <thead>\n",
       "    <tr style=\"text-align: right;\">\n",
       "      <th></th>\n",
       "      <th>success</th>\n",
       "      <th>timestamp</th>\n",
       "      <th>base</th>\n",
       "      <th>date</th>\n",
       "      <th>rates</th>\n",
       "    </tr>\n",
       "  </thead>\n",
       "  <tbody>\n",
       "    <tr>\n",
       "      <th>AED</th>\n",
       "      <td>True</td>\n",
       "      <td>1642710844</td>\n",
       "      <td>EUR</td>\n",
       "      <td>2022-01-20</td>\n",
       "      <td>4.154948</td>\n",
       "    </tr>\n",
       "    <tr>\n",
       "      <th>AFN</th>\n",
       "      <td>True</td>\n",
       "      <td>1642710844</td>\n",
       "      <td>EUR</td>\n",
       "      <td>2022-01-20</td>\n",
       "      <td>118.777913</td>\n",
       "    </tr>\n",
       "    <tr>\n",
       "      <th>ALL</th>\n",
       "      <td>True</td>\n",
       "      <td>1642710844</td>\n",
       "      <td>EUR</td>\n",
       "      <td>2022-01-20</td>\n",
       "      <td>121.323147</td>\n",
       "    </tr>\n",
       "    <tr>\n",
       "      <th>AMD</th>\n",
       "      <td>True</td>\n",
       "      <td>1642710844</td>\n",
       "      <td>EUR</td>\n",
       "      <td>2022-01-20</td>\n",
       "      <td>544.861268</td>\n",
       "    </tr>\n",
       "    <tr>\n",
       "      <th>ANG</th>\n",
       "      <td>True</td>\n",
       "      <td>1642710844</td>\n",
       "      <td>EUR</td>\n",
       "      <td>2022-01-20</td>\n",
       "      <td>2.039132</td>\n",
       "    </tr>\n",
       "    <tr>\n",
       "      <th>...</th>\n",
       "      <td>...</td>\n",
       "      <td>...</td>\n",
       "      <td>...</td>\n",
       "      <td>...</td>\n",
       "      <td>...</td>\n",
       "    </tr>\n",
       "    <tr>\n",
       "      <th>YER</th>\n",
       "      <td>True</td>\n",
       "      <td>1642710844</td>\n",
       "      <td>EUR</td>\n",
       "      <td>2022-01-20</td>\n",
       "      <td>283.086865</td>\n",
       "    </tr>\n",
       "    <tr>\n",
       "      <th>ZAR</th>\n",
       "      <td>True</td>\n",
       "      <td>1642710844</td>\n",
       "      <td>EUR</td>\n",
       "      <td>2022-01-20</td>\n",
       "      <td>17.192188</td>\n",
       "    </tr>\n",
       "    <tr>\n",
       "      <th>ZMK</th>\n",
       "      <td>True</td>\n",
       "      <td>1642710844</td>\n",
       "      <td>EUR</td>\n",
       "      <td>2022-01-20</td>\n",
       "      <td>10182.298666</td>\n",
       "    </tr>\n",
       "    <tr>\n",
       "      <th>ZMW</th>\n",
       "      <td>True</td>\n",
       "      <td>1642710844</td>\n",
       "      <td>EUR</td>\n",
       "      <td>2022-01-20</td>\n",
       "      <td>19.715440</td>\n",
       "    </tr>\n",
       "    <tr>\n",
       "      <th>ZWL</th>\n",
       "      <td>True</td>\n",
       "      <td>1642710844</td>\n",
       "      <td>EUR</td>\n",
       "      <td>2022-01-20</td>\n",
       "      <td>364.250872</td>\n",
       "    </tr>\n",
       "  </tbody>\n",
       "</table>\n",
       "<p>168 rows × 5 columns</p>\n",
       "</div>"
      ],
      "text/plain": [
       "     success   timestamp base        date         rates\n",
       "AED     True  1642710844  EUR  2022-01-20      4.154948\n",
       "AFN     True  1642710844  EUR  2022-01-20    118.777913\n",
       "ALL     True  1642710844  EUR  2022-01-20    121.323147\n",
       "AMD     True  1642710844  EUR  2022-01-20    544.861268\n",
       "ANG     True  1642710844  EUR  2022-01-20      2.039132\n",
       "..       ...         ...  ...         ...           ...\n",
       "YER     True  1642710844  EUR  2022-01-20    283.086865\n",
       "ZAR     True  1642710844  EUR  2022-01-20     17.192188\n",
       "ZMK     True  1642710844  EUR  2022-01-20  10182.298666\n",
       "ZMW     True  1642710844  EUR  2022-01-20     19.715440\n",
       "ZWL     True  1642710844  EUR  2022-01-20    364.250872\n",
       "\n",
       "[168 rows x 5 columns]"
      ]
     },
     "execution_count": 4,
     "metadata": {},
     "output_type": "execute_result"
    }
   ],
   "source": [
    "# Turn the data into a dataframe\n",
    "df = pd.DataFrame(response.json())\n",
    "df"
   ]
  },
  {
   "cell_type": "code",
   "execution_count": 5,
   "metadata": {},
   "outputs": [
    {
     "data": {
      "text/html": [
       "<div>\n",
       "<style scoped>\n",
       "    .dataframe tbody tr th:only-of-type {\n",
       "        vertical-align: middle;\n",
       "    }\n",
       "\n",
       "    .dataframe tbody tr th {\n",
       "        vertical-align: top;\n",
       "    }\n",
       "\n",
       "    .dataframe thead th {\n",
       "        text-align: right;\n",
       "    }\n",
       "</style>\n",
       "<table border=\"1\" class=\"dataframe\">\n",
       "  <thead>\n",
       "    <tr style=\"text-align: right;\">\n",
       "      <th></th>\n",
       "      <th>rates</th>\n",
       "    </tr>\n",
       "  </thead>\n",
       "  <tbody>\n",
       "    <tr>\n",
       "      <th>AED</th>\n",
       "      <td>4.154948</td>\n",
       "    </tr>\n",
       "    <tr>\n",
       "      <th>AFN</th>\n",
       "      <td>118.777913</td>\n",
       "    </tr>\n",
       "    <tr>\n",
       "      <th>ALL</th>\n",
       "      <td>121.323147</td>\n",
       "    </tr>\n",
       "    <tr>\n",
       "      <th>AMD</th>\n",
       "      <td>544.861268</td>\n",
       "    </tr>\n",
       "    <tr>\n",
       "      <th>ANG</th>\n",
       "      <td>2.039132</td>\n",
       "    </tr>\n",
       "    <tr>\n",
       "      <th>...</th>\n",
       "      <td>...</td>\n",
       "    </tr>\n",
       "    <tr>\n",
       "      <th>YER</th>\n",
       "      <td>283.086865</td>\n",
       "    </tr>\n",
       "    <tr>\n",
       "      <th>ZAR</th>\n",
       "      <td>17.192188</td>\n",
       "    </tr>\n",
       "    <tr>\n",
       "      <th>ZMK</th>\n",
       "      <td>10182.298666</td>\n",
       "    </tr>\n",
       "    <tr>\n",
       "      <th>ZMW</th>\n",
       "      <td>19.715440</td>\n",
       "    </tr>\n",
       "    <tr>\n",
       "      <th>ZWL</th>\n",
       "      <td>364.250872</td>\n",
       "    </tr>\n",
       "  </tbody>\n",
       "</table>\n",
       "<p>168 rows × 1 columns</p>\n",
       "</div>"
      ],
      "text/plain": [
       "            rates\n",
       "AED      4.154948\n",
       "AFN    118.777913\n",
       "ALL    121.323147\n",
       "AMD    544.861268\n",
       "ANG      2.039132\n",
       "..            ...\n",
       "YER    283.086865\n",
       "ZAR     17.192188\n",
       "ZMK  10182.298666\n",
       "ZMW     19.715440\n",
       "ZWL    364.250872\n",
       "\n",
       "[168 rows x 1 columns]"
      ]
     },
     "execution_count": 5,
     "metadata": {},
     "output_type": "execute_result"
    }
   ],
   "source": [
    "# Drop unnescessary columns\n",
    "df.drop(['success','timestamp','base','date'], axis=1, inplace=True)\n",
    "df"
   ]
  },
  {
   "cell_type": "code",
   "execution_count": 6,
   "metadata": {},
   "outputs": [
    {
     "data": {
      "text/plain": [
       "rates    0.831547\n",
       "Name: GBP, dtype: float64"
      ]
     },
     "execution_count": 6,
     "metadata": {},
     "output_type": "execute_result"
    }
   ],
   "source": [
    "df.loc['GBP',:]"
   ]
  },
  {
   "cell_type": "markdown",
   "metadata": {},
   "source": [
    "### Load the Data\n",
    "\n",
    "Using the dataframe save it as a CSV names `exchange_rates_1.csv`.\n"
   ]
  },
  {
   "cell_type": "code",
   "execution_count": 7,
   "metadata": {},
   "outputs": [],
   "source": [
    "# Save the Dataframe\n",
    "df.to_csv('exchange_rates1.csv')"
   ]
  },
  {
   "cell_type": "markdown",
   "metadata": {},
   "source": [
    "Your CSV should be in this format with more currencies\n",
    "\n",
    "|     | Rates      |\n",
    "| --- | ---------- |\n",
    "| AED | 4.398618   |\n",
    "| AFN | 92.917693  |\n",
    "| ALL | 123.099093 |\n",
    "| AMD | 621.935674 |\n",
    "| ANG | 2.149648   |\n"
   ]
  },
  {
   "cell_type": "markdown",
   "metadata": {},
   "source": [
    "## Authors\n"
   ]
  },
  {
   "cell_type": "markdown",
   "metadata": {},
   "source": [
    "Ramesh Sannareddy, Joseph Santarcangelo and Azim Hirjani\n"
   ]
  },
  {
   "cell_type": "markdown",
   "metadata": {},
   "source": [
    "### Other Contributors\n"
   ]
  },
  {
   "cell_type": "markdown",
   "metadata": {},
   "source": [
    "Rav Ahuja\n"
   ]
  },
  {
   "cell_type": "markdown",
   "metadata": {},
   "source": [
    "## Change Log\n"
   ]
  },
  {
   "cell_type": "markdown",
   "metadata": {},
   "source": [
    "| Date (YYYY-MM-DD) | Version | Changed By        | Change Description                 |\n",
    "| ----------------- | ------- | ----------------- | ---------------------------------- |\n",
    "| 2021-04-15        | 0.2     | Malika            | Updated the lab from USD to EUR    |\n",
    "| 2020-11-25        | 0.1     | Ramesh Sannareddy | Created initial version of the lab |\n"
   ]
  },
  {
   "cell_type": "markdown",
   "metadata": {},
   "source": [
    "Copyright © 2020 IBM Corporation. This notebook and its source code are released under the terms of the [MIT License](https://cognitiveclass.ai/mit-license?utm_medium=Exinfluencer&utm_source=Exinfluencer&utm_content=000026UJ&utm_term=10006555&utm_id=NA-SkillsNetwork-Channel-SkillsNetworkCoursesIBMDeveloperSkillsNetworkPY0221ENSkillsNetwork23455645-2021-01-01&cm_mmc=Email_Newsletter-\\_-Developer_Ed%2BTech-\\_-WW_WW-\\_-SkillsNetwork-Courses-IBM-DA0321EN-SkillsNetwork-21426264&cm_mmca1=000026UJ&cm_mmca2=10006555&cm_mmca3=M12345678&cvosrc=email.Newsletter.M12345678&cvo_campaign=000026UJ).\n"
   ]
  }
 ],
 "metadata": {
  "kernelspec": {
   "display_name": "Python",
   "language": "python",
   "name": "conda-env-python-py"
  },
  "language_info": {
   "codemirror_mode": {
    "name": "ipython",
    "version": 3
   },
   "file_extension": ".py",
   "mimetype": "text/x-python",
   "name": "python",
   "nbconvert_exporter": "python",
   "pygments_lexer": "ipython3",
   "version": "3.7.12"
  }
 },
 "nbformat": 4,
 "nbformat_minor": 4
}
